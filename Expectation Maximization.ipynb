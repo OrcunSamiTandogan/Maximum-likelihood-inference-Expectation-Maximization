{
 "cells": [
  {
   "cell_type": "markdown",
   "metadata": {},
   "source": [
    "# Maximum Likelihood "
   ]
  },
  {
   "cell_type": "markdown",
   "metadata": {},
   "source": [
    "Modules"
   ]
  },
  {
   "cell_type": "code",
   "execution_count": null,
   "metadata": {},
   "outputs": [],
   "source": [
    "#%%\n",
    "import numpy as np\n",
    "import scipy.stats as stats\n",
    "import matplotlib.pyplot as plt \n",
    "import pandas as pd \n",
    "import seaborn as sns\n",
    "import math\n",
    "from sympy import *\n",
    "import scipy.stats as stats\n",
    "from sympy.utilities.lambdify import NUMPY_TRANSLATIONS\n",
    "from scipy import optimize "
   ]
  },
  {
   "cell_type": "markdown",
   "metadata": {},
   "source": [
    "Likelihood function without using logarithm"
   ]
  },
  {
   "cell_type": "code",
   "execution_count": null,
   "metadata": {},
   "outputs": [],
   "source": [
    "def likelihood(x,theta):\n",
    "    num_heads, num_tails = x\n",
    "    return stats.binom.pmf(num_tails,(num_heads+num_tails),theta) "
   ]
  },
  {
   "cell_type": "markdown",
   "metadata": {},
   "source": [
    "For ex. (4,6); what is probability of getting 6 tails in 10 times in which probability of getting tail is theta/0.9"
   ]
  },
  {
   "cell_type": "code",
   "execution_count": null,
   "metadata": {},
   "outputs": [
    {
     "data": {
      "text/plain": [
       "0.05739562799999997"
      ]
     },
     "metadata": {},
     "output_type": "display_data"
    }
   ],
   "source": [
    "x = [ (4,6),(3,7),(5,5),(1,9),(7,3),(8,2),(6,4) ] \n",
    "n = 10\n",
    "\n",
    "likelihood(x[1],0.9)"
   ]
  },
  {
   "cell_type": "markdown",
   "metadata": {},
   "source": [
    "Likelihood function by using logarithm"
   ]
  },
  {
   "cell_type": "code",
   "execution_count": null,
   "metadata": {},
   "outputs": [
    {
     "data": {
      "text/plain": [
       "-2.857787145804875"
      ]
     },
     "metadata": {},
     "output_type": "display_data"
    }
   ],
   "source": [
    "def log_likelihood(x,theta):\n",
    "    num_heads, num_tails = x\n",
    "    return stats.binom.logpmf(num_tails,(num_heads+num_tails),theta)\n",
    "    # to no deal small #s, we are using log\n",
    "    \n",
    "log_likelihood(x[1],0.9)"
   ]
  },
  {
   "cell_type": "markdown",
   "metadata": {},
   "source": [
    "Using `scipy.optimize.minimize` to determine probability"
   ]
  },
  {
   "cell_type": "code",
   "execution_count": null,
   "metadata": {},
   "outputs": [
    {
     "data": {
      "text/plain": [
       "     fun: array([1.29781072])\n",
       "     jac: array([-1.22568621e-05])\n",
       " message: 'Converged (|f_n-f_(n-1)| ~= 0)'\n",
       "    nfev: 18\n",
       "     nit: 4\n",
       "  status: 1\n",
       " success: True\n",
       "       x: array([0.66666636])"
      ]
     },
     "metadata": {},
     "output_type": "display_data"
    }
   ],
   "source": [
    "def neglogll(theta,x):\n",
    "    num_heads, num_tails = x\n",
    "    return -1 * stats.binom.logpmf(num_tails,(num_heads+num_tails),theta)\n",
    "\n",
    "optimize.minimize(neglogll, [0.6], args=[3,6], bounds = [(0,1)],method= 'tnc') "
   ]
  },
  {
   "cell_type": "markdown",
   "metadata": {},
   "source": [
    "---\n",
    "---\n",
    "## Maximum Likelihood Experiments"
   ]
  },
  {
   "cell_type": "markdown",
   "metadata": {},
   "source": [
    "We define coin experiments by 10 flips and recorded how many times tails and heads occur"
   ]
  },
  {
   "cell_type": "markdown",
   "metadata": {},
   "source": [
    "Quest: `Can we find probabilty of occurance of tails in respect to specific coin?`\n",
    "\n",
    "Let's say we have two types of coin: `0` and `1`"
   ]
  },
  {
   "cell_type": "code",
   "execution_count": null,
   "metadata": {},
   "outputs": [],
   "source": [
    "xs = [ (4,6),(3,7),(5,5),(1,9),(7,3),(8,2),(6,4)] \n",
    "zs = [0,1,0,1,0,0,0] "
   ]
  },
  {
   "cell_type": "markdown",
   "metadata": {},
   "source": [
    "Defining Maximum Likelihood\n",
    "\n",
    "This function has no further parameters and there is no other function to calculate. "
   ]
  },
  {
   "cell_type": "code",
   "execution_count": null,
   "metadata": {},
   "outputs": [],
   "source": [
    "def mle(x):\n",
    "    num_heads, num_tails = x\n",
    "    return (num_tails+0.0000000000001) / ((num_heads+num_tails)+0.00000000001) "
   ]
  },
  {
   "cell_type": "code",
   "execution_count": null,
   "metadata": {},
   "outputs": [],
   "source": [
    "def find_thetas(xs,zs):\n",
    "    coin1tails=0\n",
    "    coin1heads=0\n",
    "    coin2tails=0\n",
    "    coin2heads=0\n",
    "    for x,z in zip(xs,zs):\n",
    "        num_heads,num_tails = x\n",
    "        if z == 0:\n",
    "            coin1tails += num_tails\n",
    "            coin1heads += num_heads\n",
    "        else:\n",
    "            coin2tails += num_tails\n",
    "            coin2heads += num_heads\n",
    "    return mle((coin1heads,coin1tails)),mle((coin2heads,coin2tails)) "
   ]
  },
  {
   "cell_type": "markdown",
   "metadata": {},
   "source": [
    "We are allowed to see that coin 0 has 0.399, and coin 1 has 0.799 chance to get tail. "
   ]
  },
  {
   "cell_type": "code",
   "execution_count": null,
   "metadata": {},
   "outputs": [
    {
     "data": {
      "text/plain": [
       "(0.39999999999992203, 0.7999999999996049)"
      ]
     },
     "metadata": {},
     "output_type": "display_data"
    }
   ],
   "source": [
    "find_thetas(xs,zs) "
   ]
  },
  {
   "cell_type": "markdown",
   "metadata": {},
   "source": [
    "---\n",
    "Quest: `Can we find specific coins by looking to experiment and probabilities?`"
   ]
  },
  {
   "cell_type": "code",
   "execution_count": null,
   "metadata": {},
   "outputs": [],
   "source": [
    "xs = [ (4,6),(3,7),(5,5),(1,9),(7,3),(8,2),(6,4)] \n",
    "thetas = [0.5,0.6] "
   ]
  },
  {
   "cell_type": "markdown",
   "metadata": {},
   "source": [
    "Defining Maximum Likelihood\n",
    "\n",
    "This function has no further parameters and there is no other function to calculate. "
   ]
  },
  {
   "cell_type": "code",
   "execution_count": null,
   "metadata": {},
   "outputs": [],
   "source": [
    "def logll(x,p):\n",
    "    num_heads,num_tails = x\n",
    "    p_tails = p\n",
    "    p_heads = 1-p\n",
    "    return num_tails * np.log(p_tails) + num_heads * np.log(p_heads) "
   ]
  },
  {
   "cell_type": "code",
   "execution_count": null,
   "metadata": {},
   "outputs": [],
   "source": [
    "def find_zs(xs,thetas):\n",
    "    theta_a = thetas[0]\n",
    "    theta_b = thetas[1]\n",
    "    zs = []\n",
    "    total_logll = 0\n",
    "    for x in xs:\n",
    "        logll_a = logll(x,theta_a) \n",
    "        logll_b = logll(x,theta_b)\n",
    "        # print(x,logll_a,logll_b)\n",
    "        if logll_a > logll_b:\n",
    "            zs.append(0)\n",
    "            total_logll += logll_a\n",
    "        else:   \n",
    "            zs.append(1)\n",
    "            total_logll += logll_b\n",
    "    return zs, total_logll\n"
   ]
  },
  {
   "cell_type": "markdown",
   "metadata": {},
   "source": [
    "We are able to see which experiment belongs to which coin by calculating likelihoods"
   ]
  },
  {
   "cell_type": "code",
   "execution_count": null,
   "metadata": {},
   "outputs": [
    {
     "data": {
      "text/plain": [
       "([1, 1, 0, 1, 0, 0, 0], -46.294376800242844)"
      ]
     },
     "metadata": {},
     "output_type": "display_data"
    }
   ],
   "source": [
    "find_zs(xs,thetas)"
   ]
  },
  {
   "cell_type": "markdown",
   "metadata": {},
   "source": [
    "---\n",
    "---\n",
    "# Expectation Maximization "
   ]
  },
  {
   "cell_type": "markdown",
   "metadata": {},
   "source": [
    "Algorithm: \n",
    "* Finding total loggs/zs, record likelihood, reassign everything,\n",
    "* keep doing this until likelihodd ddoes not improve\n",
    "Protocol:\n",
    "\n",
    "`What is best initial guess?`\n",
    "\n",
    "* #1 start w initial guess for thetas \n",
    "* #2 use these thetas and assign to one coin and total log\n",
    "* #3 using these assgments, update our parameters, find new probabilties for each coin\n",
    "* #4 report what`s happened \n",
    "* #5 compare current liklelihood w to the last annd if it less than certain small value ,\n",
    "* #6 break because our likelihood is not improving in that case. \n",
    "* #7 our current likelihood becomes last likelihood and we go back and do it again. "
   ]
  },
  {
   "cell_type": "code",
   "execution_count": null,
   "metadata": {},
   "outputs": [],
   "source": [
    "def coin_em(cs,initial_guess = [0.1,0.9]): #1\n",
    "    max_iter = 100 # len(cs) makes more sense\n",
    "    tol = 0.0001 #6\n",
    "    thetas = initial_guess\n",
    "    last_logll = -np.infty\n",
    "    for i in range(max_iter):\n",
    "        #E Step    \n",
    "        zs,total_logll = find_zs(cs,thetas) #2\n",
    "        # determine which result belongs to which type of coin\n",
    "        #M Step \n",
    "        thetas = find_thetas(cs,zs) #3 \n",
    "        # determine probability of each of them by looking their mle\n",
    "        print(f'Iteration {i}:') #4\n",
    "        print(f' Thetas = {thetas}')\n",
    "        print(f'Current log likelihood = {total_logll}')\n",
    "        if total_logll - last_logll < tol: #5\n",
    "            break\n",
    "        last_logll = total_logll\n",
    "    return thetas,zs  \n",
    "\n"
   ]
  },
  {
   "cell_type": "markdown",
   "metadata": {},
   "source": [
    "We can introduce experiments and provide initial guess. Then we are able to see, probabilities and coin types according to results of experiments.  "
   ]
  },
  {
   "cell_type": "code",
   "execution_count": null,
   "metadata": {},
   "outputs": [
    {
     "name": "stdout",
     "output_type": "stream",
     "text": [
      "Iteration 0:\n",
      " Thetas = (0.19999999999993667, 0.5999999999994101)\n",
      "Current log likelihood = -26.186666399675243\n",
      "Iteration 1:\n",
      " Thetas = (0.04999999999997999, 0.5499999999997299)\n",
      "Current log likelihood = -19.714863835693734\n",
      "Iteration 2:\n",
      " Thetas = (0.04999999999997999, 0.5499999999997299)\n",
      "Current log likelihood = -17.733081141189217\n",
      "Iteration 3:\n",
      " Thetas = (0.04999999999997999, 0.5499999999997299)\n",
      "Current log likelihood = -17.733081141189217\n"
     ]
    },
    {
     "data": {
      "text/plain": [
       "((0.04999999999997999, 0.5499999999997299), [0, 1, 0, 1])"
      ]
     },
     "metadata": {},
     "output_type": "display_data"
    }
   ],
   "source": [
    "coin_em([(10, 0), (5, 5), (9, 1), (4, 6),], initial_guess = [0.1,0.9] ) "
   ]
  }
 ],
 "metadata": {
  "language_info": {
   "name": "python"
  },
  "orig_nbformat": 4
 },
 "nbformat": 4,
 "nbformat_minor": 2
}
